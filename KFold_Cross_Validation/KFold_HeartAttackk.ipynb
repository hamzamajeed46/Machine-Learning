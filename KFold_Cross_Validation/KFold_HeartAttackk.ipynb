{
 "cells": [
  {
   "cell_type": "code",
   "execution_count": 1,
   "metadata": {},
   "outputs": [],
   "source": [
    "import pandas as pd\n",
    "import numpy as np\n",
    "from sklearn.preprocessing import LabelEncoder\n",
    "from sklearn.model_selection import train_test_split\n",
    "from sklearn.naive_bayes import GaussianNB\n",
    "from sklearn.metrics import confusion_matrix, accuracy_score, precision_score, recall_score, f1_score\n",
    "from sklearn.preprocessing import StandardScaler\n",
    "from sklearn.model_selection import cross_val_score, KFold\n",
    "from sklearn.tree import DecisionTreeClassifier\n",
    "from sklearn.ensemble import RandomForestClassifier"
   ]
  },
  {
   "cell_type": "code",
   "execution_count": 2,
   "metadata": {},
   "outputs": [
    {
     "data": {
      "text/html": [
       "<div>\n",
       "<style scoped>\n",
       "    .dataframe tbody tr th:only-of-type {\n",
       "        vertical-align: middle;\n",
       "    }\n",
       "\n",
       "    .dataframe tbody tr th {\n",
       "        vertical-align: top;\n",
       "    }\n",
       "\n",
       "    .dataframe thead th {\n",
       "        text-align: right;\n",
       "    }\n",
       "</style>\n",
       "<table border=\"1\" class=\"dataframe\">\n",
       "  <thead>\n",
       "    <tr style=\"text-align: right;\">\n",
       "      <th></th>\n",
       "      <th>Age</th>\n",
       "      <th>Gender</th>\n",
       "      <th>Heart rate</th>\n",
       "      <th>Systolic blood pressure</th>\n",
       "      <th>Diastolic blood pressure</th>\n",
       "      <th>Blood sugar</th>\n",
       "      <th>CK-MB</th>\n",
       "      <th>Troponin</th>\n",
       "      <th>Result</th>\n",
       "    </tr>\n",
       "  </thead>\n",
       "  <tbody>\n",
       "    <tr>\n",
       "      <th>0</th>\n",
       "      <td>63</td>\n",
       "      <td>1</td>\n",
       "      <td>66</td>\n",
       "      <td>160</td>\n",
       "      <td>83</td>\n",
       "      <td>160.0</td>\n",
       "      <td>1.80</td>\n",
       "      <td>0.012</td>\n",
       "      <td>negative</td>\n",
       "    </tr>\n",
       "    <tr>\n",
       "      <th>1</th>\n",
       "      <td>20</td>\n",
       "      <td>1</td>\n",
       "      <td>94</td>\n",
       "      <td>98</td>\n",
       "      <td>46</td>\n",
       "      <td>296.0</td>\n",
       "      <td>6.75</td>\n",
       "      <td>1.060</td>\n",
       "      <td>positive</td>\n",
       "    </tr>\n",
       "    <tr>\n",
       "      <th>2</th>\n",
       "      <td>56</td>\n",
       "      <td>1</td>\n",
       "      <td>64</td>\n",
       "      <td>160</td>\n",
       "      <td>77</td>\n",
       "      <td>270.0</td>\n",
       "      <td>1.99</td>\n",
       "      <td>0.003</td>\n",
       "      <td>negative</td>\n",
       "    </tr>\n",
       "    <tr>\n",
       "      <th>3</th>\n",
       "      <td>66</td>\n",
       "      <td>1</td>\n",
       "      <td>70</td>\n",
       "      <td>120</td>\n",
       "      <td>55</td>\n",
       "      <td>270.0</td>\n",
       "      <td>13.87</td>\n",
       "      <td>0.122</td>\n",
       "      <td>positive</td>\n",
       "    </tr>\n",
       "    <tr>\n",
       "      <th>4</th>\n",
       "      <td>54</td>\n",
       "      <td>1</td>\n",
       "      <td>64</td>\n",
       "      <td>112</td>\n",
       "      <td>65</td>\n",
       "      <td>300.0</td>\n",
       "      <td>1.08</td>\n",
       "      <td>0.003</td>\n",
       "      <td>negative</td>\n",
       "    </tr>\n",
       "  </tbody>\n",
       "</table>\n",
       "</div>"
      ],
      "text/plain": [
       "   Age  Gender  Heart rate  Systolic blood pressure  Diastolic blood pressure  \\\n",
       "0   63       1          66                      160                        83   \n",
       "1   20       1          94                       98                        46   \n",
       "2   56       1          64                      160                        77   \n",
       "3   66       1          70                      120                        55   \n",
       "4   54       1          64                      112                        65   \n",
       "\n",
       "   Blood sugar  CK-MB  Troponin    Result  \n",
       "0        160.0   1.80     0.012  negative  \n",
       "1        296.0   6.75     1.060  positive  \n",
       "2        270.0   1.99     0.003  negative  \n",
       "3        270.0  13.87     0.122  positive  \n",
       "4        300.0   1.08     0.003  negative  "
      ]
     },
     "execution_count": 2,
     "metadata": {},
     "output_type": "execute_result"
    }
   ],
   "source": [
    "df = pd.read_csv('HeartAttack.csv')\n",
    "df.head()"
   ]
  },
  {
   "cell_type": "code",
   "execution_count": 3,
   "metadata": {},
   "outputs": [
    {
     "data": {
      "text/plain": [
       "(1319, 9)"
      ]
     },
     "execution_count": 3,
     "metadata": {},
     "output_type": "execute_result"
    }
   ],
   "source": [
    "df.shape"
   ]
  },
  {
   "cell_type": "code",
   "execution_count": 4,
   "metadata": {},
   "outputs": [
    {
     "data": {
      "text/plain": [
       "Age                         0\n",
       "Gender                      0\n",
       "Heart rate                  0\n",
       "Systolic blood pressure     0\n",
       "Diastolic blood pressure    0\n",
       "Blood sugar                 0\n",
       "CK-MB                       0\n",
       "Troponin                    0\n",
       "Result                      0\n",
       "dtype: int64"
      ]
     },
     "execution_count": 4,
     "metadata": {},
     "output_type": "execute_result"
    }
   ],
   "source": [
    "df.isnull().sum()"
   ]
  },
  {
   "cell_type": "code",
   "execution_count": 5,
   "metadata": {},
   "outputs": [
    {
     "data": {
      "text/plain": [
       "0"
      ]
     },
     "execution_count": 5,
     "metadata": {},
     "output_type": "execute_result"
    }
   ],
   "source": [
    "df.duplicated().sum()"
   ]
  },
  {
   "cell_type": "code",
   "execution_count": 6,
   "metadata": {},
   "outputs": [],
   "source": [
    "le = LabelEncoder()\n",
    "for column in df.columns:\n",
    "    if df[column].dtype == 'object':\n",
    "        df[column] = le.fit_transform(df[column])"
   ]
  },
  {
   "cell_type": "code",
   "execution_count": 7,
   "metadata": {},
   "outputs": [
    {
     "data": {
      "text/html": [
       "<div>\n",
       "<style scoped>\n",
       "    .dataframe tbody tr th:only-of-type {\n",
       "        vertical-align: middle;\n",
       "    }\n",
       "\n",
       "    .dataframe tbody tr th {\n",
       "        vertical-align: top;\n",
       "    }\n",
       "\n",
       "    .dataframe thead th {\n",
       "        text-align: right;\n",
       "    }\n",
       "</style>\n",
       "<table border=\"1\" class=\"dataframe\">\n",
       "  <thead>\n",
       "    <tr style=\"text-align: right;\">\n",
       "      <th></th>\n",
       "      <th>Age</th>\n",
       "      <th>Gender</th>\n",
       "      <th>Heart rate</th>\n",
       "      <th>Systolic blood pressure</th>\n",
       "      <th>Diastolic blood pressure</th>\n",
       "      <th>Blood sugar</th>\n",
       "      <th>CK-MB</th>\n",
       "      <th>Troponin</th>\n",
       "      <th>Result</th>\n",
       "    </tr>\n",
       "  </thead>\n",
       "  <tbody>\n",
       "    <tr>\n",
       "      <th>0</th>\n",
       "      <td>0.499279</td>\n",
       "      <td>1</td>\n",
       "      <td>-0.239032</td>\n",
       "      <td>1.257215</td>\n",
       "      <td>0.764927</td>\n",
       "      <td>0.178459</td>\n",
       "      <td>-0.290962</td>\n",
       "      <td>0.012</td>\n",
       "      <td>0</td>\n",
       "    </tr>\n",
       "    <tr>\n",
       "      <th>1</th>\n",
       "      <td>-2.654832</td>\n",
       "      <td>1</td>\n",
       "      <td>0.303491</td>\n",
       "      <td>-1.117098</td>\n",
       "      <td>-1.872542</td>\n",
       "      <td>1.994344</td>\n",
       "      <td>-0.184072</td>\n",
       "      <td>1.060</td>\n",
       "      <td>1</td>\n",
       "    </tr>\n",
       "    <tr>\n",
       "      <th>2</th>\n",
       "      <td>-0.014181</td>\n",
       "      <td>1</td>\n",
       "      <td>-0.277784</td>\n",
       "      <td>1.257215</td>\n",
       "      <td>0.337229</td>\n",
       "      <td>1.647189</td>\n",
       "      <td>-0.286859</td>\n",
       "      <td>0.003</td>\n",
       "      <td>0</td>\n",
       "    </tr>\n",
       "    <tr>\n",
       "      <th>3</th>\n",
       "      <td>0.719333</td>\n",
       "      <td>1</td>\n",
       "      <td>-0.161529</td>\n",
       "      <td>-0.274600</td>\n",
       "      <td>-1.230995</td>\n",
       "      <td>1.647189</td>\n",
       "      <td>-0.030324</td>\n",
       "      <td>0.122</td>\n",
       "      <td>1</td>\n",
       "    </tr>\n",
       "    <tr>\n",
       "      <th>4</th>\n",
       "      <td>-0.160884</td>\n",
       "      <td>1</td>\n",
       "      <td>-0.277784</td>\n",
       "      <td>-0.580963</td>\n",
       "      <td>-0.518166</td>\n",
       "      <td>2.047752</td>\n",
       "      <td>-0.306509</td>\n",
       "      <td>0.003</td>\n",
       "      <td>0</td>\n",
       "    </tr>\n",
       "  </tbody>\n",
       "</table>\n",
       "</div>"
      ],
      "text/plain": [
       "        Age  Gender  Heart rate  Systolic blood pressure  \\\n",
       "0  0.499279       1   -0.239032                 1.257215   \n",
       "1 -2.654832       1    0.303491                -1.117098   \n",
       "2 -0.014181       1   -0.277784                 1.257215   \n",
       "3  0.719333       1   -0.161529                -0.274600   \n",
       "4 -0.160884       1   -0.277784                -0.580963   \n",
       "\n",
       "   Diastolic blood pressure  Blood sugar     CK-MB  Troponin  Result  \n",
       "0                  0.764927     0.178459 -0.290962     0.012       0  \n",
       "1                 -1.872542     1.994344 -0.184072     1.060       1  \n",
       "2                  0.337229     1.647189 -0.286859     0.003       0  \n",
       "3                 -1.230995     1.647189 -0.030324     0.122       1  \n",
       "4                 -0.518166     2.047752 -0.306509     0.003       0  "
      ]
     },
     "execution_count": 7,
     "metadata": {},
     "output_type": "execute_result"
    }
   ],
   "source": [
    "columns_to_scale = ['Age', 'Heart rate', 'Systolic blood pressure', 'Diastolic blood pressure', 'Blood sugar', 'CK-MB']\n",
    "\n",
    "scaler = StandardScaler()\n",
    "df[columns_to_scale] = scaler.fit_transform(df[columns_to_scale])\n",
    "\n",
    "df.head()"
   ]
  },
  {
   "cell_type": "code",
   "execution_count": 8,
   "metadata": {},
   "outputs": [],
   "source": [
    "X = df.drop(columns=['Result']) \n",
    "y = df['Result'] "
   ]
  },
  {
   "cell_type": "code",
   "execution_count": 9,
   "metadata": {},
   "outputs": [],
   "source": [
    "x_train, x_test, y_train, y_test = train_test_split(X, y, test_size=0.8, random_state=0)"
   ]
  },
  {
   "cell_type": "code",
   "execution_count": 10,
   "metadata": {},
   "outputs": [],
   "source": [
    "model = GaussianNB()"
   ]
  },
  {
   "cell_type": "code",
   "execution_count": 11,
   "metadata": {},
   "outputs": [],
   "source": [
    "def perform_kfold_cv(model, X, Y, k):\n",
    "    kf = KFold(n_splits=k, shuffle=True, random_state=42)\n",
    "    scores = cross_val_score(model, X, Y, cv=kf)\n",
    "    mean_score = np.mean(scores)\n",
    "    print(f\"Scores for k={k}: {scores}\")\n",
    "    print(f\"Mean score for k={k}: {mean_score}\")\n",
    "    return mean_score\n",
    "\n",
    "# Function to find the best k and fit the model\n",
    "def find_best_k_and_fit(model, X, Y, k_values):\n",
    "    mean_scores = {}\n",
    "    for k in k_values:\n",
    "        mean_scores[k] = perform_kfold_cv(model, X, Y, k)\n",
    "    \n",
    "    best_k = max(mean_scores, key=mean_scores.get)\n",
    "    print(f\"Best k is {best_k} with a mean score of {mean_scores[best_k]}\")\n",
    "    \n",
    "    # Fit the model using all the training data\n",
    "    model.fit(X, Y)\n",
    "    print(\"Model fitted with the entire dataset.\")\n",
    "    return model\n"
   ]
  },
  {
   "cell_type": "code",
   "execution_count": 12,
   "metadata": {},
   "outputs": [
    {
     "name": "stdout",
     "output_type": "stream",
     "text": [
      "Gaussian Naive Bayes Model:\n",
      "Scores for k=5: [0.94339623 0.75471698 0.75471698 0.73076923 0.69230769]\n",
      "Mean score for k=5: 0.7751814223512337\n",
      "Scores for k=7: [0.78947368 0.94736842 0.86842105 0.73684211 0.7027027  0.75675676\n",
      " 0.7027027 ]\n",
      "Mean score for k=7: 0.7863239179028654\n",
      "Scores for k=10: [0.74074074 0.96296296 0.66666667 0.84615385 0.73076923 0.76923077\n",
      " 0.65384615 0.84615385 0.69230769 0.69230769]\n",
      "Mean score for k=10: 0.7601139601139602\n",
      "Best k is 7 with a mean score of 0.7863239179028654\n",
      "Model fitted with the entire dataset.\n"
     ]
    }
   ],
   "source": [
    "k_values=[5,7,10]\n",
    "print(\"Gaussian Naive Bayes Model:\")\n",
    "best_nb_model = find_best_k_and_fit(model, x_train, y_train, k_values)"
   ]
  },
  {
   "cell_type": "code",
   "execution_count": 13,
   "metadata": {},
   "outputs": [
    {
     "name": "stdout",
     "output_type": "stream",
     "text": [
      "Accuracy:0.7660984848484849\n",
      "Precision:0.8135019635019636\n",
      "Recall:0.8041130270130976\n",
      "F1-Score:0.7658698421161765\n"
     ]
    }
   ],
   "source": [
    "y_pred = model.predict(x_test) \n",
    "accuracy = accuracy_score(y_test, y_pred)\n",
    "precision = precision_score(y_test, y_pred, average='macro')\n",
    "recall = recall_score(y_test, y_pred, average='macro')\n",
    "f1 = f1_score(y_test, y_pred, average='macro')\n",
    "print(f\"Accuracy:{accuracy}\")\n",
    "print(f\"Precision:{precision}\")\n",
    "print(f\"Recall:{recall}\")\n",
    "print(f\"F1-Score:{f1}\")\n"
   ]
  },
  {
   "cell_type": "code",
   "execution_count": 14,
   "metadata": {},
   "outputs": [
    {
     "data": {
      "text/plain": [
       "array([[421,   2],\n",
       "       [245, 388]], dtype=int64)"
      ]
     },
     "execution_count": 14,
     "metadata": {},
     "output_type": "execute_result"
    }
   ],
   "source": [
    "conf_matrix = confusion_matrix(y_test, y_pred)\n",
    "conf_matrix"
   ]
  },
  {
   "cell_type": "code",
   "execution_count": 15,
   "metadata": {},
   "outputs": [
    {
     "name": "stdout",
     "output_type": "stream",
     "text": [
      "Decision Tree Classifier:\n",
      "Scores for k=5: [0.98113208 1.         0.98113208 0.92307692 0.94230769]\n",
      "Mean score for k=5: 0.9655297532656023\n",
      "Scores for k=7: [0.97368421 0.97368421 1.         1.         0.89189189 0.97297297\n",
      " 0.94594595]\n",
      "Mean score for k=7: 0.9654541759804918\n",
      "Scores for k=10: [0.96296296 0.96296296 1.         1.         1.         0.96153846\n",
      " 0.84615385 0.92307692 1.         0.92307692]\n",
      "Mean score for k=10: 0.9579772079772081\n",
      "Best k is 5 with a mean score of 0.9655297532656023\n",
      "Model fitted with the entire dataset.\n"
     ]
    }
   ],
   "source": [
    "dt_model = DecisionTreeClassifier(random_state=42)\n",
    "print(\"Decision Tree Classifier:\")\n",
    "best_dt_model = find_best_k_and_fit(dt_model, x_train, y_train, k_values)"
   ]
  },
  {
   "cell_type": "code",
   "execution_count": 16,
   "metadata": {},
   "outputs": [
    {
     "name": "stdout",
     "output_type": "stream",
     "text": [
      "Accuracy:0.9763257575757576\n",
      "Precision:0.9784404502541757\n",
      "Recall:0.9724098909840566\n",
      "F1-Score:0.9751998805085152\n"
     ]
    },
    {
     "data": {
      "text/plain": [
       "array([[403,  20],\n",
       "       [  5, 628]], dtype=int64)"
      ]
     },
     "execution_count": 16,
     "metadata": {},
     "output_type": "execute_result"
    }
   ],
   "source": [
    "y_pred = dt_model.predict(x_test) \n",
    "accuracy = accuracy_score(y_test, y_pred)\n",
    "precision = precision_score(y_test, y_pred, average='macro')\n",
    "recall = recall_score(y_test, y_pred, average='macro')\n",
    "f1 = f1_score(y_test, y_pred, average='macro')\n",
    "print(f\"Accuracy:{accuracy}\")\n",
    "print(f\"Precision:{precision}\")\n",
    "print(f\"Recall:{recall}\")\n",
    "print(f\"F1-Score:{f1}\")\n",
    "conf_matrix = confusion_matrix(y_test, y_pred)\n",
    "conf_matrix"
   ]
  },
  {
   "cell_type": "code",
   "execution_count": 17,
   "metadata": {},
   "outputs": [
    {
     "name": "stdout",
     "output_type": "stream",
     "text": [
      "Random Forest Classifier:\n",
      "Scores for k=5: [0.96226415 0.98113208 0.96226415 0.94230769 0.98076923]\n",
      "Mean score for k=5: 0.9657474600870828\n",
      "Scores for k=7: [0.97368421 0.97368421 0.97368421 1.         0.94594595 0.97297297\n",
      " 1.        ]\n",
      "Mean score for k=7: 0.9771387929282666\n",
      "Scores for k=10: [0.96296296 0.96296296 1.         0.96153846 1.         1.\n",
      " 0.92307692 0.96153846 1.         0.96153846]\n",
      "Mean score for k=10: 0.9733618233618234\n",
      "Best k is 7 with a mean score of 0.9771387929282666\n",
      "Model fitted with the entire dataset.\n"
     ]
    }
   ],
   "source": [
    "rf_model = RandomForestClassifier(random_state=42)\n",
    "print(\"Random Forest Classifier:\")\n",
    "best_rf_model = find_best_k_and_fit(rf_model, x_train, y_train, k_values)"
   ]
  },
  {
   "cell_type": "code",
   "execution_count": 18,
   "metadata": {},
   "outputs": [
    {
     "name": "stdout",
     "output_type": "stream",
     "text": [
      "Accuracy:0.9753787878787878\n",
      "Precision:0.9772090861338584\n",
      "Recall:0.9716200015685748\n",
      "F1-Score:0.9742187500000001\n"
     ]
    },
    {
     "data": {
      "text/plain": [
       "array([[403,  20],\n",
       "       [  6, 627]], dtype=int64)"
      ]
     },
     "execution_count": 18,
     "metadata": {},
     "output_type": "execute_result"
    }
   ],
   "source": [
    "y_pred = rf_model.predict(x_test) \n",
    "accuracy = accuracy_score(y_test, y_pred)\n",
    "precision = precision_score(y_test, y_pred, average='macro')\n",
    "recall = recall_score(y_test, y_pred, average='macro')\n",
    "f1 = f1_score(y_test, y_pred, average='macro')\n",
    "print(f\"Accuracy:{accuracy}\")\n",
    "print(f\"Precision:{precision}\")\n",
    "print(f\"Recall:{recall}\")\n",
    "print(f\"F1-Score:{f1}\")\n",
    "conf_matrix = confusion_matrix(y_test, y_pred)\n",
    "conf_matrix"
   ]
  },
  {
   "cell_type": "code",
   "execution_count": null,
   "metadata": {},
   "outputs": [],
   "source": []
  }
 ],
 "metadata": {
  "kernelspec": {
   "display_name": "Python 3",
   "language": "python",
   "name": "python3"
  },
  "language_info": {
   "codemirror_mode": {
    "name": "ipython",
    "version": 3
   },
   "file_extension": ".py",
   "mimetype": "text/x-python",
   "name": "python",
   "nbconvert_exporter": "python",
   "pygments_lexer": "ipython3",
   "version": "3.12.1"
  }
 },
 "nbformat": 4,
 "nbformat_minor": 2
}
