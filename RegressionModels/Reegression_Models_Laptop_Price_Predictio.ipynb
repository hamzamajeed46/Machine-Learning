{
 "cells": [
  {
   "cell_type": "code",
   "execution_count": 71,
   "metadata": {},
   "outputs": [],
   "source": [
    "import numpy as np\n",
    "import pandas as pd\n",
    "from sklearn.metrics import mean_absolute_error, mean_squared_error, r2_score\n",
    "from sklearn.model_selection import train_test_split\n",
    "from sklearn.linear_model import LinearRegression\n",
    "from sklearn.ensemble import RandomForestRegressor\n",
    "from sklearn.tree import DecisionTreeRegressor\n",
    "from sklearn.preprocessing import StandardScaler\n",
    "from sklearn.preprocessing import OneHotEncoder\n",
    "import statsmodels.api as sm\n",
    "from sklearn.preprocessing import LabelEncoder\n"
   ]
  },
  {
   "cell_type": "code",
   "execution_count": 72,
   "metadata": {},
   "outputs": [
    {
     "data": {
      "text/html": [
       "<div>\n",
       "<style scoped>\n",
       "    .dataframe tbody tr th:only-of-type {\n",
       "        vertical-align: middle;\n",
       "    }\n",
       "\n",
       "    .dataframe tbody tr th {\n",
       "        vertical-align: top;\n",
       "    }\n",
       "\n",
       "    .dataframe thead th {\n",
       "        text-align: right;\n",
       "    }\n",
       "</style>\n",
       "<table border=\"1\" class=\"dataframe\">\n",
       "  <thead>\n",
       "    <tr style=\"text-align: right;\">\n",
       "      <th></th>\n",
       "      <th>Brand</th>\n",
       "      <th>Processor_Speed</th>\n",
       "      <th>RAM_Size</th>\n",
       "      <th>Storage_Capacity</th>\n",
       "      <th>Screen_Size</th>\n",
       "      <th>Weight</th>\n",
       "      <th>Price</th>\n",
       "    </tr>\n",
       "  </thead>\n",
       "  <tbody>\n",
       "    <tr>\n",
       "      <th>0</th>\n",
       "      <td>Asus</td>\n",
       "      <td>3.830296</td>\n",
       "      <td>16</td>\n",
       "      <td>512</td>\n",
       "      <td>11.185147</td>\n",
       "      <td>2.641094</td>\n",
       "      <td>17395.093065</td>\n",
       "    </tr>\n",
       "    <tr>\n",
       "      <th>1</th>\n",
       "      <td>Acer</td>\n",
       "      <td>2.912833</td>\n",
       "      <td>4</td>\n",
       "      <td>1000</td>\n",
       "      <td>11.311372</td>\n",
       "      <td>3.260012</td>\n",
       "      <td>31607.605919</td>\n",
       "    </tr>\n",
       "    <tr>\n",
       "      <th>2</th>\n",
       "      <td>Lenovo</td>\n",
       "      <td>3.241627</td>\n",
       "      <td>4</td>\n",
       "      <td>256</td>\n",
       "      <td>11.853023</td>\n",
       "      <td>2.029061</td>\n",
       "      <td>9291.023542</td>\n",
       "    </tr>\n",
       "    <tr>\n",
       "      <th>3</th>\n",
       "      <td>Acer</td>\n",
       "      <td>3.806248</td>\n",
       "      <td>16</td>\n",
       "      <td>512</td>\n",
       "      <td>12.280360</td>\n",
       "      <td>4.573865</td>\n",
       "      <td>17436.728334</td>\n",
       "    </tr>\n",
       "    <tr>\n",
       "      <th>4</th>\n",
       "      <td>Acer</td>\n",
       "      <td>3.268097</td>\n",
       "      <td>32</td>\n",
       "      <td>1000</td>\n",
       "      <td>14.990877</td>\n",
       "      <td>4.193472</td>\n",
       "      <td>32917.990718</td>\n",
       "    </tr>\n",
       "  </tbody>\n",
       "</table>\n",
       "</div>"
      ],
      "text/plain": [
       "    Brand  Processor_Speed  RAM_Size  Storage_Capacity  Screen_Size    Weight  \\\n",
       "0    Asus         3.830296        16               512    11.185147  2.641094   \n",
       "1    Acer         2.912833         4              1000    11.311372  3.260012   \n",
       "2  Lenovo         3.241627         4               256    11.853023  2.029061   \n",
       "3    Acer         3.806248        16               512    12.280360  4.573865   \n",
       "4    Acer         3.268097        32              1000    14.990877  4.193472   \n",
       "\n",
       "          Price  \n",
       "0  17395.093065  \n",
       "1  31607.605919  \n",
       "2   9291.023542  \n",
       "3  17436.728334  \n",
       "4  32917.990718  "
      ]
     },
     "execution_count": 72,
     "metadata": {},
     "output_type": "execute_result"
    }
   ],
   "source": [
    "df = pd.read_csv(\"Laptop_price.csv\")\n",
    "df.head(5)"
   ]
  },
  {
   "cell_type": "code",
   "execution_count": 73,
   "metadata": {},
   "outputs": [
    {
     "name": "stdout",
     "output_type": "stream",
     "text": [
      "<class 'pandas.core.frame.DataFrame'>\n",
      "RangeIndex: 1000 entries, 0 to 999\n",
      "Data columns (total 7 columns):\n",
      " #   Column            Non-Null Count  Dtype  \n",
      "---  ------            --------------  -----  \n",
      " 0   Brand             1000 non-null   object \n",
      " 1   Processor_Speed   1000 non-null   float64\n",
      " 2   RAM_Size          1000 non-null   int64  \n",
      " 3   Storage_Capacity  1000 non-null   int64  \n",
      " 4   Screen_Size       1000 non-null   float64\n",
      " 5   Weight            1000 non-null   float64\n",
      " 6   Price             1000 non-null   float64\n",
      "dtypes: float64(4), int64(2), object(1)\n",
      "memory usage: 54.8+ KB\n"
     ]
    }
   ],
   "source": [
    "df.info()"
   ]
  },
  {
   "cell_type": "code",
   "execution_count": 74,
   "metadata": {},
   "outputs": [
    {
     "data": {
      "text/html": [
       "<div>\n",
       "<style scoped>\n",
       "    .dataframe tbody tr th:only-of-type {\n",
       "        vertical-align: middle;\n",
       "    }\n",
       "\n",
       "    .dataframe tbody tr th {\n",
       "        vertical-align: top;\n",
       "    }\n",
       "\n",
       "    .dataframe thead th {\n",
       "        text-align: right;\n",
       "    }\n",
       "</style>\n",
       "<table border=\"1\" class=\"dataframe\">\n",
       "  <thead>\n",
       "    <tr style=\"text-align: right;\">\n",
       "      <th></th>\n",
       "      <th>Processor_Speed</th>\n",
       "      <th>RAM_Size</th>\n",
       "      <th>Storage_Capacity</th>\n",
       "      <th>Screen_Size</th>\n",
       "      <th>Weight</th>\n",
       "      <th>Price</th>\n",
       "    </tr>\n",
       "  </thead>\n",
       "  <tbody>\n",
       "    <tr>\n",
       "      <th>count</th>\n",
       "      <td>1000.000000</td>\n",
       "      <td>1000.000000</td>\n",
       "      <td>1000.000000</td>\n",
       "      <td>1000.000000</td>\n",
       "      <td>1000.000000</td>\n",
       "      <td>1000.000000</td>\n",
       "    </tr>\n",
       "    <tr>\n",
       "      <th>mean</th>\n",
       "      <td>2.750611</td>\n",
       "      <td>15.500000</td>\n",
       "      <td>584.576000</td>\n",
       "      <td>14.056790</td>\n",
       "      <td>3.466919</td>\n",
       "      <td>19604.187963</td>\n",
       "    </tr>\n",
       "    <tr>\n",
       "      <th>std</th>\n",
       "      <td>0.731796</td>\n",
       "      <td>10.988665</td>\n",
       "      <td>313.438517</td>\n",
       "      <td>1.705882</td>\n",
       "      <td>0.866541</td>\n",
       "      <td>9406.064880</td>\n",
       "    </tr>\n",
       "    <tr>\n",
       "      <th>min</th>\n",
       "      <td>1.511580</td>\n",
       "      <td>4.000000</td>\n",
       "      <td>256.000000</td>\n",
       "      <td>11.012111</td>\n",
       "      <td>2.000560</td>\n",
       "      <td>8570.012950</td>\n",
       "    </tr>\n",
       "    <tr>\n",
       "      <th>25%</th>\n",
       "      <td>2.089246</td>\n",
       "      <td>8.000000</td>\n",
       "      <td>256.000000</td>\n",
       "      <td>12.635523</td>\n",
       "      <td>2.717211</td>\n",
       "      <td>10114.012948</td>\n",
       "    </tr>\n",
       "    <tr>\n",
       "      <th>50%</th>\n",
       "      <td>2.760885</td>\n",
       "      <td>16.000000</td>\n",
       "      <td>512.000000</td>\n",
       "      <td>14.099643</td>\n",
       "      <td>3.464630</td>\n",
       "      <td>17287.241878</td>\n",
       "    </tr>\n",
       "    <tr>\n",
       "      <th>75%</th>\n",
       "      <td>3.362610</td>\n",
       "      <td>32.000000</td>\n",
       "      <td>1000.000000</td>\n",
       "      <td>15.528590</td>\n",
       "      <td>4.212583</td>\n",
       "      <td>31566.214754</td>\n",
       "    </tr>\n",
       "    <tr>\n",
       "      <th>max</th>\n",
       "      <td>3.998534</td>\n",
       "      <td>32.000000</td>\n",
       "      <td>1000.000000</td>\n",
       "      <td>16.985737</td>\n",
       "      <td>4.990728</td>\n",
       "      <td>33503.935037</td>\n",
       "    </tr>\n",
       "  </tbody>\n",
       "</table>\n",
       "</div>"
      ],
      "text/plain": [
       "       Processor_Speed     RAM_Size  Storage_Capacity  Screen_Size  \\\n",
       "count      1000.000000  1000.000000       1000.000000  1000.000000   \n",
       "mean          2.750611    15.500000        584.576000    14.056790   \n",
       "std           0.731796    10.988665        313.438517     1.705882   \n",
       "min           1.511580     4.000000        256.000000    11.012111   \n",
       "25%           2.089246     8.000000        256.000000    12.635523   \n",
       "50%           2.760885    16.000000        512.000000    14.099643   \n",
       "75%           3.362610    32.000000       1000.000000    15.528590   \n",
       "max           3.998534    32.000000       1000.000000    16.985737   \n",
       "\n",
       "            Weight         Price  \n",
       "count  1000.000000   1000.000000  \n",
       "mean      3.466919  19604.187963  \n",
       "std       0.866541   9406.064880  \n",
       "min       2.000560   8570.012950  \n",
       "25%       2.717211  10114.012948  \n",
       "50%       3.464630  17287.241878  \n",
       "75%       4.212583  31566.214754  \n",
       "max       4.990728  33503.935037  "
      ]
     },
     "execution_count": 74,
     "metadata": {},
     "output_type": "execute_result"
    }
   ],
   "source": [
    "df.describe()"
   ]
  },
  {
   "cell_type": "code",
   "execution_count": 75,
   "metadata": {},
   "outputs": [
    {
     "data": {
      "text/plain": [
       "Brand               0\n",
       "Processor_Speed     0\n",
       "RAM_Size            0\n",
       "Storage_Capacity    0\n",
       "Screen_Size         0\n",
       "Weight              0\n",
       "Price               0\n",
       "dtype: int64"
      ]
     },
     "execution_count": 75,
     "metadata": {},
     "output_type": "execute_result"
    }
   ],
   "source": [
    "df.isnull().sum()"
   ]
  },
  {
   "cell_type": "code",
   "execution_count": 76,
   "metadata": {},
   "outputs": [],
   "source": [
    "label_encoder = LabelEncoder()\n",
    "df['Brand'] = label_encoder.fit_transform(df['Brand'])\n",
    "\n",
    "X = df.drop(columns = \"Price\")\n",
    "y = df['Price']\n",
    "X_train, X_test, y_train, y_test = train_test_split(X, y, test_size=0.2, random_state=42)"
   ]
  },
  {
   "cell_type": "markdown",
   "metadata": {},
   "source": [
    "### Linear Regression Model without Feature Scaling"
   ]
  },
  {
   "cell_type": "code",
   "execution_count": 77,
   "metadata": {},
   "outputs": [
    {
     "name": "stdout",
     "output_type": "stream",
     "text": [
      "Model Score: 0.9996478987127725\n",
      "Mean Absolute Error (MAE): 145.27235007959655\n",
      "Mean Squared Error (MSE): 31969.582469869325\n",
      "Root Mean Squared Error (RMSE): 178.800398405231\n",
      "R-squared: 0.9996478987127725\n",
      "Adjusted R-squared: 0.9996369525587654\n"
     ]
    }
   ],
   "source": [
    "model = LinearRegression()\n",
    "model.fit(X_train, y_train)\n",
    "y_pred = model.predict(X_test)\n",
    "mae = mean_absolute_error(y_test, y_pred)\n",
    "mse = mean_squared_error(y_test, y_pred)\n",
    "rmse = np.sqrt(mse)\n",
    "r2 = r2_score(y_test, y_pred)\n",
    "n = len(y_test) \n",
    "p = X_test.shape[1]\n",
    "adj_r2 = 1 - ((1 - r2) * (n - 1) / (n - p - 1))\n",
    "print(\"Model Score:\", model.score(X_test, y_test))\n",
    "print(\"Mean Absolute Error (MAE):\", mae)\n",
    "print(\"Mean Squared Error (MSE):\", mse)\n",
    "print(\"Root Mean Squared Error (RMSE):\", rmse)\n",
    "print(\"R-squared:\", r2)\n",
    "print(\"Adjusted R-squared:\", adj_r2)"
   ]
  },
  {
   "cell_type": "markdown",
   "metadata": {},
   "source": [
    "### Decision Tree Model without Feature SCALING"
   ]
  },
  {
   "cell_type": "code",
   "execution_count": 78,
   "metadata": {},
   "outputs": [
    {
     "name": "stdout",
     "output_type": "stream",
     "text": [
      "Model Score: 0.9991710678900825\n",
      "Mean Absolute Error (MAE): 221.30659372836527\n",
      "Mean Squared Error (MSE): 75264.17656293632\n",
      "Root Mean Squared Error (RMSE): 274.34317298401345\n",
      "R-squared: 0.9991710678900825\n",
      "Adjusted R-squared: 0.9991452979799296\n"
     ]
    }
   ],
   "source": [
    "model = DecisionTreeRegressor()\n",
    "model.fit(X_train, y_train)\n",
    "y_pred = model.predict(X_test)\n",
    "mae,mse = mean_absolute_error(y_test, y_pred), mean_squared_error(y_test, y_pred)\n",
    "rmse, r2 = np.sqrt(mse), r2_score(y_test, y_pred)\n",
    "n,p = len(y_test), X_test.shape[1]\n",
    "adj_r2 = 1 - ((1 - r2) * (n - 1) / (n - p - 1))\n",
    "print(\"Model Score:\", model.score(X_test, y_test))\n",
    "print(\"Mean Absolute Error (MAE):\", mae)\n",
    "print(\"Mean Squared Error (MSE):\", mse)\n",
    "print(\"Root Mean Squared Error (RMSE):\", rmse)\n",
    "print(\"R-squared:\", r2)\n",
    "print(\"Adjusted R-squared:\", adj_r2)"
   ]
  },
  {
   "cell_type": "markdown",
   "metadata": {},
   "source": [
    "### Random Forest Regressor without Feature SCALING"
   ]
  },
  {
   "cell_type": "code",
   "execution_count": 79,
   "metadata": {},
   "outputs": [
    {
     "name": "stdout",
     "output_type": "stream",
     "text": [
      "Model Score: 0.9995457489851665\n",
      "Mean Absolute Error (MAE): 166.83886764717536\n",
      "Mean Squared Error (MSE): 41244.42541829529\n",
      "Root Mean Squared Error (RMSE): 203.08723598073632\n",
      "R-squared: 0.9995457489851665\n",
      "Adjusted R-squared: 0.9995316271919592\n"
     ]
    }
   ],
   "source": [
    "model = RandomForestRegressor()\n",
    "model.fit(X_train, y_train)\n",
    "y_pred = model.predict(X_test)\n",
    "mae,mse = mean_absolute_error(y_test, y_pred), mean_squared_error(y_test, y_pred)\n",
    "rmse, r2 = np.sqrt(mse), r2_score(y_test, y_pred)\n",
    "n,p = len(y_test), X_test.shape[1]\n",
    "adj_r2 = 1 - ((1 - r2) * (n - 1) / (n - p - 1))\n",
    "print(\"Model Score:\", model.score(X_test, y_test))\n",
    "print(\"Mean Absolute Error (MAE):\", mae)\n",
    "print(\"Mean Squared Error (MSE):\", mse)\n",
    "print(\"Root Mean Squared Error (RMSE):\", rmse)\n",
    "print(\"R-squared:\", r2)\n",
    "print(\"Adjusted R-squared:\", adj_r2)"
   ]
  },
  {
   "cell_type": "markdown",
   "metadata": {},
   "source": [
    "### Feature SCALING"
   ]
  },
  {
   "cell_type": "code",
   "execution_count": 80,
   "metadata": {},
   "outputs": [
    {
     "data": {
      "text/html": [
       "<div>\n",
       "<style scoped>\n",
       "    .dataframe tbody tr th:only-of-type {\n",
       "        vertical-align: middle;\n",
       "    }\n",
       "\n",
       "    .dataframe tbody tr th {\n",
       "        vertical-align: top;\n",
       "    }\n",
       "\n",
       "    .dataframe thead th {\n",
       "        text-align: right;\n",
       "    }\n",
       "</style>\n",
       "<table border=\"1\" class=\"dataframe\">\n",
       "  <thead>\n",
       "    <tr style=\"text-align: right;\">\n",
       "      <th></th>\n",
       "      <th>Brand</th>\n",
       "      <th>Processor_Speed</th>\n",
       "      <th>RAM_Size</th>\n",
       "      <th>Storage_Capacity</th>\n",
       "      <th>Screen_Size</th>\n",
       "      <th>Weight</th>\n",
       "      <th>Price</th>\n",
       "    </tr>\n",
       "  </thead>\n",
       "  <tbody>\n",
       "    <tr>\n",
       "      <th>0</th>\n",
       "      <td>1</td>\n",
       "      <td>3.830296</td>\n",
       "      <td>16</td>\n",
       "      <td>-0.231664</td>\n",
       "      <td>-1.684219</td>\n",
       "      <td>2.641094</td>\n",
       "      <td>17395.093065</td>\n",
       "    </tr>\n",
       "    <tr>\n",
       "      <th>1</th>\n",
       "      <td>0</td>\n",
       "      <td>2.912833</td>\n",
       "      <td>4</td>\n",
       "      <td>1.326040</td>\n",
       "      <td>-1.610189</td>\n",
       "      <td>3.260012</td>\n",
       "      <td>31607.605919</td>\n",
       "    </tr>\n",
       "    <tr>\n",
       "      <th>2</th>\n",
       "      <td>4</td>\n",
       "      <td>3.241627</td>\n",
       "      <td>4</td>\n",
       "      <td>-1.048819</td>\n",
       "      <td>-1.292510</td>\n",
       "      <td>2.029061</td>\n",
       "      <td>9291.023542</td>\n",
       "    </tr>\n",
       "    <tr>\n",
       "      <th>3</th>\n",
       "      <td>0</td>\n",
       "      <td>3.806248</td>\n",
       "      <td>16</td>\n",
       "      <td>-0.231664</td>\n",
       "      <td>-1.041877</td>\n",
       "      <td>4.573865</td>\n",
       "      <td>17436.728334</td>\n",
       "    </tr>\n",
       "    <tr>\n",
       "      <th>4</th>\n",
       "      <td>0</td>\n",
       "      <td>3.268097</td>\n",
       "      <td>32</td>\n",
       "      <td>1.326040</td>\n",
       "      <td>0.547843</td>\n",
       "      <td>4.193472</td>\n",
       "      <td>32917.990718</td>\n",
       "    </tr>\n",
       "  </tbody>\n",
       "</table>\n",
       "</div>"
      ],
      "text/plain": [
       "   Brand  Processor_Speed  RAM_Size  Storage_Capacity  Screen_Size    Weight  \\\n",
       "0      1         3.830296        16         -0.231664    -1.684219  2.641094   \n",
       "1      0         2.912833         4          1.326040    -1.610189  3.260012   \n",
       "2      4         3.241627         4         -1.048819    -1.292510  2.029061   \n",
       "3      0         3.806248        16         -0.231664    -1.041877  4.573865   \n",
       "4      0         3.268097        32          1.326040     0.547843  4.193472   \n",
       "\n",
       "          Price  \n",
       "0  17395.093065  \n",
       "1  31607.605919  \n",
       "2   9291.023542  \n",
       "3  17436.728334  \n",
       "4  32917.990718  "
      ]
     },
     "execution_count": 80,
     "metadata": {},
     "output_type": "execute_result"
    }
   ],
   "source": [
    "columns_to_scale = ['Storage_Capacity',\t'Screen_Size']\n",
    "scaler = StandardScaler()\n",
    "df[columns_to_scale] = scaler.fit_transform(df[columns_to_scale])\n",
    "df.head(5)"
   ]
  },
  {
   "cell_type": "code",
   "execution_count": 81,
   "metadata": {},
   "outputs": [],
   "source": [
    "X = df.drop(columns = \"Price\")\n",
    "y = df['Price']\n",
    "X_train, X_test, y_train, y_test = train_test_split(X, y, test_size=0.2, random_state=42)"
   ]
  },
  {
   "cell_type": "markdown",
   "metadata": {},
   "source": [
    "### Applying Models after feature SCALING and without OHE"
   ]
  },
  {
   "cell_type": "code",
   "execution_count": 82,
   "metadata": {},
   "outputs": [
    {
     "name": "stdout",
     "output_type": "stream",
     "text": [
      "Linear Regression Model Score: 0.9996478987127725\n",
      "Mean Absolute Error (MAE): 145.2723500795961\n",
      "Mean Squared Error (MSE): 31969.58246986911\n",
      "Root Mean Squared Error (RMSE): 178.80039840523037\n",
      "R-squared: 0.9996478987127725\n",
      "Adjusted R-squared: 0.9996369525587654\n"
     ]
    }
   ],
   "source": [
    "model = LinearRegression()\n",
    "model.fit(X_train, y_train)\n",
    "y_pred = model.predict(X_test)\n",
    "mae = mean_absolute_error(y_test, y_pred)\n",
    "mse = mean_squared_error(y_test, y_pred)\n",
    "rmse = np.sqrt(mse)\n",
    "r2 = r2_score(y_test, y_pred)\n",
    "n = len(y_test) \n",
    "p = X_test.shape[1]\n",
    "adj_r2 = 1 - ((1 - r2) * (n - 1) / (n - p - 1))\n",
    "print(\"Linear Regression Model Score:\", model.score(X_test, y_test))\n",
    "print(\"Mean Absolute Error (MAE):\", mae)\n",
    "print(\"Mean Squared Error (MSE):\", mse)\n",
    "print(\"Root Mean Squared Error (RMSE):\", rmse)\n",
    "print(\"R-squared:\", r2)\n",
    "print(\"Adjusted R-squared:\", adj_r2)"
   ]
  },
  {
   "cell_type": "code",
   "execution_count": 83,
   "metadata": {},
   "outputs": [
    {
     "name": "stdout",
     "output_type": "stream",
     "text": [
      "Decision Tree Model Score: 0.999110360779293\n",
      "Mean Absolute Error (MAE): 227.67179078170867\n",
      "Mean Squared Error (MSE): 80776.17284153965\n",
      "Root Mean Squared Error (RMSE): 284.21149315525514\n",
      "R-squared: 0.999110360779293\n",
      "Adjusted R-squared: 0.9990827036014472\n"
     ]
    }
   ],
   "source": [
    "model = DecisionTreeRegressor()\n",
    "model.fit(X_train, y_train)\n",
    "y_pred = model.predict(X_test)\n",
    "mae,mse = mean_absolute_error(y_test, y_pred), mean_squared_error(y_test, y_pred)\n",
    "rmse, r2 = np.sqrt(mse), r2_score(y_test, y_pred)\n",
    "n,p = len(y_test), X_test.shape[1]\n",
    "adj_r2 = 1 - ((1 - r2) * (n - 1) / (n - p - 1))\n",
    "print(\"Decision Tree Model Score:\", model.score(X_test, y_test))\n",
    "print(\"Mean Absolute Error (MAE):\", mae)\n",
    "print(\"Mean Squared Error (MSE):\", mse)\n",
    "print(\"Root Mean Squared Error (RMSE):\", rmse)\n",
    "print(\"R-squared:\", r2)\n",
    "print(\"Adjusted R-squared:\", adj_r2)"
   ]
  },
  {
   "cell_type": "code",
   "execution_count": 67,
   "metadata": {},
   "outputs": [
    {
     "name": "stdout",
     "output_type": "stream",
     "text": [
      "Random Forest Model Score: 0.9995505548167871\n",
      "Mean Absolute Error (MAE): 165.38267499939295\n",
      "Mean Squared Error (MSE): 40808.07248262664\n",
      "Root Mean Squared Error (RMSE): 202.01008015103267\n",
      "R-squared: 0.9995505548167871\n",
      "Adjusted R-squared: 0.9995365824276717\n"
     ]
    }
   ],
   "source": [
    "model = RandomForestRegressor()\n",
    "model.fit(X_train, y_train)\n",
    "y_pred = model.predict(X_test)\n",
    "mae,mse = mean_absolute_error(y_test, y_pred), mean_squared_error(y_test, y_pred)\n",
    "rmse, r2 = np.sqrt(mse), r2_score(y_test, y_pred)\n",
    "n,p = len(y_test), X_test.shape[1]\n",
    "adj_r2 = 1 - ((1 - r2) * (n - 1) / (n - p - 1))\n",
    "print(\"Random Forest Model Score:\", model.score(X_test, y_test))\n",
    "print(\"Mean Absolute Error (MAE):\", mae)\n",
    "print(\"Mean Squared Error (MSE):\", mse)\n",
    "print(\"Root Mean Squared Error (RMSE):\", rmse)\n",
    "print(\"R-squared:\", r2)\n",
    "print(\"Adjusted R-squared:\", adj_r2)"
   ]
  },
  {
   "cell_type": "markdown",
   "metadata": {},
   "source": [
    "### One Hot Encoding"
   ]
  },
  {
   "cell_type": "code",
   "execution_count": 84,
   "metadata": {},
   "outputs": [],
   "source": [
    "df['Brand'] = label_encoder.inverse_transform(df['Brand'])"
   ]
  },
  {
   "cell_type": "code",
   "execution_count": 85,
   "metadata": {},
   "outputs": [
    {
     "data": {
      "text/html": [
       "<div>\n",
       "<style scoped>\n",
       "    .dataframe tbody tr th:only-of-type {\n",
       "        vertical-align: middle;\n",
       "    }\n",
       "\n",
       "    .dataframe tbody tr th {\n",
       "        vertical-align: top;\n",
       "    }\n",
       "\n",
       "    .dataframe thead th {\n",
       "        text-align: right;\n",
       "    }\n",
       "</style>\n",
       "<table border=\"1\" class=\"dataframe\">\n",
       "  <thead>\n",
       "    <tr style=\"text-align: right;\">\n",
       "      <th></th>\n",
       "      <th>Brand</th>\n",
       "      <th>Processor_Speed</th>\n",
       "      <th>RAM_Size</th>\n",
       "      <th>Storage_Capacity</th>\n",
       "      <th>Screen_Size</th>\n",
       "      <th>Weight</th>\n",
       "      <th>Price</th>\n",
       "    </tr>\n",
       "  </thead>\n",
       "  <tbody>\n",
       "    <tr>\n",
       "      <th>0</th>\n",
       "      <td>Asus</td>\n",
       "      <td>3.830296</td>\n",
       "      <td>16</td>\n",
       "      <td>-0.231664</td>\n",
       "      <td>-1.684219</td>\n",
       "      <td>2.641094</td>\n",
       "      <td>17395.093065</td>\n",
       "    </tr>\n",
       "    <tr>\n",
       "      <th>1</th>\n",
       "      <td>Acer</td>\n",
       "      <td>2.912833</td>\n",
       "      <td>4</td>\n",
       "      <td>1.326040</td>\n",
       "      <td>-1.610189</td>\n",
       "      <td>3.260012</td>\n",
       "      <td>31607.605919</td>\n",
       "    </tr>\n",
       "    <tr>\n",
       "      <th>2</th>\n",
       "      <td>Lenovo</td>\n",
       "      <td>3.241627</td>\n",
       "      <td>4</td>\n",
       "      <td>-1.048819</td>\n",
       "      <td>-1.292510</td>\n",
       "      <td>2.029061</td>\n",
       "      <td>9291.023542</td>\n",
       "    </tr>\n",
       "    <tr>\n",
       "      <th>3</th>\n",
       "      <td>Acer</td>\n",
       "      <td>3.806248</td>\n",
       "      <td>16</td>\n",
       "      <td>-0.231664</td>\n",
       "      <td>-1.041877</td>\n",
       "      <td>4.573865</td>\n",
       "      <td>17436.728334</td>\n",
       "    </tr>\n",
       "    <tr>\n",
       "      <th>4</th>\n",
       "      <td>Acer</td>\n",
       "      <td>3.268097</td>\n",
       "      <td>32</td>\n",
       "      <td>1.326040</td>\n",
       "      <td>0.547843</td>\n",
       "      <td>4.193472</td>\n",
       "      <td>32917.990718</td>\n",
       "    </tr>\n",
       "  </tbody>\n",
       "</table>\n",
       "</div>"
      ],
      "text/plain": [
       "    Brand  Processor_Speed  RAM_Size  Storage_Capacity  Screen_Size    Weight  \\\n",
       "0    Asus         3.830296        16         -0.231664    -1.684219  2.641094   \n",
       "1    Acer         2.912833         4          1.326040    -1.610189  3.260012   \n",
       "2  Lenovo         3.241627         4         -1.048819    -1.292510  2.029061   \n",
       "3    Acer         3.806248        16         -0.231664    -1.041877  4.573865   \n",
       "4    Acer         3.268097        32          1.326040     0.547843  4.193472   \n",
       "\n",
       "          Price  \n",
       "0  17395.093065  \n",
       "1  31607.605919  \n",
       "2   9291.023542  \n",
       "3  17436.728334  \n",
       "4  32917.990718  "
      ]
     },
     "execution_count": 85,
     "metadata": {},
     "output_type": "execute_result"
    }
   ],
   "source": [
    "df['Brand'] = pd.Categorical(df['Brand'])\n",
    "encoder = OneHotEncoder()\n",
    "df_new = encoder.fit_transform(df[['Brand']])\n",
    "df.head()"
   ]
  },
  {
   "cell_type": "code",
   "execution_count": 86,
   "metadata": {},
   "outputs": [
    {
     "data": {
      "text/html": [
       "<div>\n",
       "<style scoped>\n",
       "    .dataframe tbody tr th:only-of-type {\n",
       "        vertical-align: middle;\n",
       "    }\n",
       "\n",
       "    .dataframe tbody tr th {\n",
       "        vertical-align: top;\n",
       "    }\n",
       "\n",
       "    .dataframe thead th {\n",
       "        text-align: right;\n",
       "    }\n",
       "</style>\n",
       "<table border=\"1\" class=\"dataframe\">\n",
       "  <thead>\n",
       "    <tr style=\"text-align: right;\">\n",
       "      <th></th>\n",
       "      <th>Processor_Speed</th>\n",
       "      <th>RAM_Size</th>\n",
       "      <th>Storage_Capacity</th>\n",
       "      <th>Screen_Size</th>\n",
       "      <th>Weight</th>\n",
       "      <th>Price</th>\n",
       "      <th>Brand_Acer</th>\n",
       "      <th>Brand_Asus</th>\n",
       "      <th>Brand_Dell</th>\n",
       "      <th>Brand_HP</th>\n",
       "      <th>Brand_Lenovo</th>\n",
       "    </tr>\n",
       "  </thead>\n",
       "  <tbody>\n",
       "    <tr>\n",
       "      <th>0</th>\n",
       "      <td>3.830296</td>\n",
       "      <td>16</td>\n",
       "      <td>-0.231664</td>\n",
       "      <td>-1.684219</td>\n",
       "      <td>2.641094</td>\n",
       "      <td>17395.093065</td>\n",
       "      <td>0.0</td>\n",
       "      <td>1.0</td>\n",
       "      <td>0.0</td>\n",
       "      <td>0.0</td>\n",
       "      <td>0.0</td>\n",
       "    </tr>\n",
       "    <tr>\n",
       "      <th>1</th>\n",
       "      <td>2.912833</td>\n",
       "      <td>4</td>\n",
       "      <td>1.326040</td>\n",
       "      <td>-1.610189</td>\n",
       "      <td>3.260012</td>\n",
       "      <td>31607.605919</td>\n",
       "      <td>1.0</td>\n",
       "      <td>0.0</td>\n",
       "      <td>0.0</td>\n",
       "      <td>0.0</td>\n",
       "      <td>0.0</td>\n",
       "    </tr>\n",
       "    <tr>\n",
       "      <th>2</th>\n",
       "      <td>3.241627</td>\n",
       "      <td>4</td>\n",
       "      <td>-1.048819</td>\n",
       "      <td>-1.292510</td>\n",
       "      <td>2.029061</td>\n",
       "      <td>9291.023542</td>\n",
       "      <td>0.0</td>\n",
       "      <td>0.0</td>\n",
       "      <td>0.0</td>\n",
       "      <td>0.0</td>\n",
       "      <td>1.0</td>\n",
       "    </tr>\n",
       "    <tr>\n",
       "      <th>3</th>\n",
       "      <td>3.806248</td>\n",
       "      <td>16</td>\n",
       "      <td>-0.231664</td>\n",
       "      <td>-1.041877</td>\n",
       "      <td>4.573865</td>\n",
       "      <td>17436.728334</td>\n",
       "      <td>1.0</td>\n",
       "      <td>0.0</td>\n",
       "      <td>0.0</td>\n",
       "      <td>0.0</td>\n",
       "      <td>0.0</td>\n",
       "    </tr>\n",
       "    <tr>\n",
       "      <th>4</th>\n",
       "      <td>3.268097</td>\n",
       "      <td>32</td>\n",
       "      <td>1.326040</td>\n",
       "      <td>0.547843</td>\n",
       "      <td>4.193472</td>\n",
       "      <td>32917.990718</td>\n",
       "      <td>1.0</td>\n",
       "      <td>0.0</td>\n",
       "      <td>0.0</td>\n",
       "      <td>0.0</td>\n",
       "      <td>0.0</td>\n",
       "    </tr>\n",
       "  </tbody>\n",
       "</table>\n",
       "</div>"
      ],
      "text/plain": [
       "   Processor_Speed  RAM_Size  Storage_Capacity  Screen_Size    Weight  \\\n",
       "0         3.830296        16         -0.231664    -1.684219  2.641094   \n",
       "1         2.912833         4          1.326040    -1.610189  3.260012   \n",
       "2         3.241627         4         -1.048819    -1.292510  2.029061   \n",
       "3         3.806248        16         -0.231664    -1.041877  4.573865   \n",
       "4         3.268097        32          1.326040     0.547843  4.193472   \n",
       "\n",
       "          Price  Brand_Acer  Brand_Asus  Brand_Dell  Brand_HP  Brand_Lenovo  \n",
       "0  17395.093065         0.0         1.0         0.0       0.0           0.0  \n",
       "1  31607.605919         1.0         0.0         0.0       0.0           0.0  \n",
       "2   9291.023542         0.0         0.0         0.0       0.0           1.0  \n",
       "3  17436.728334         1.0         0.0         0.0       0.0           0.0  \n",
       "4  32917.990718         1.0         0.0         0.0       0.0           0.0  "
      ]
     },
     "execution_count": 86,
     "metadata": {},
     "output_type": "execute_result"
    }
   ],
   "source": [
    "df1 = pd.DataFrame(df_new.toarray(), columns=encoder.get_feature_names_out(['Brand']))\n",
    "df = pd.concat([df, df1], axis=1)\n",
    "df.drop('Brand', axis=1, inplace=True)\n",
    "\n",
    "df.head()"
   ]
  },
  {
   "cell_type": "code",
   "execution_count": 87,
   "metadata": {},
   "outputs": [],
   "source": [
    "df['RAM_Size'] = pd.Categorical(df['RAM_Size'])\n",
    "encoder = OneHotEncoder()\n",
    "df_new = encoder.fit_transform(df[['RAM_Size']])\n",
    "df1 = pd.DataFrame(df_new.toarray(), columns=encoder.get_feature_names_out(['RAM_Size']))\n",
    "df = pd.concat([df, df1], axis=1)\n",
    "df.drop('RAM_Size', axis=1, inplace=True)"
   ]
  },
  {
   "cell_type": "code",
   "execution_count": 88,
   "metadata": {},
   "outputs": [
    {
     "data": {
      "text/html": [
       "<div>\n",
       "<style scoped>\n",
       "    .dataframe tbody tr th:only-of-type {\n",
       "        vertical-align: middle;\n",
       "    }\n",
       "\n",
       "    .dataframe tbody tr th {\n",
       "        vertical-align: top;\n",
       "    }\n",
       "\n",
       "    .dataframe thead th {\n",
       "        text-align: right;\n",
       "    }\n",
       "</style>\n",
       "<table border=\"1\" class=\"dataframe\">\n",
       "  <thead>\n",
       "    <tr style=\"text-align: right;\">\n",
       "      <th></th>\n",
       "      <th>Processor_Speed</th>\n",
       "      <th>Storage_Capacity</th>\n",
       "      <th>Screen_Size</th>\n",
       "      <th>Weight</th>\n",
       "      <th>Price</th>\n",
       "      <th>Brand_Acer</th>\n",
       "      <th>Brand_Asus</th>\n",
       "      <th>Brand_Dell</th>\n",
       "      <th>Brand_HP</th>\n",
       "      <th>Brand_Lenovo</th>\n",
       "      <th>RAM_Size_4</th>\n",
       "      <th>RAM_Size_8</th>\n",
       "      <th>RAM_Size_16</th>\n",
       "      <th>RAM_Size_32</th>\n",
       "    </tr>\n",
       "  </thead>\n",
       "  <tbody>\n",
       "    <tr>\n",
       "      <th>0</th>\n",
       "      <td>3.830296</td>\n",
       "      <td>-0.231664</td>\n",
       "      <td>-1.684219</td>\n",
       "      <td>2.641094</td>\n",
       "      <td>17395.093065</td>\n",
       "      <td>0.0</td>\n",
       "      <td>1.0</td>\n",
       "      <td>0.0</td>\n",
       "      <td>0.0</td>\n",
       "      <td>0.0</td>\n",
       "      <td>0.0</td>\n",
       "      <td>0.0</td>\n",
       "      <td>1.0</td>\n",
       "      <td>0.0</td>\n",
       "    </tr>\n",
       "    <tr>\n",
       "      <th>1</th>\n",
       "      <td>2.912833</td>\n",
       "      <td>1.326040</td>\n",
       "      <td>-1.610189</td>\n",
       "      <td>3.260012</td>\n",
       "      <td>31607.605919</td>\n",
       "      <td>1.0</td>\n",
       "      <td>0.0</td>\n",
       "      <td>0.0</td>\n",
       "      <td>0.0</td>\n",
       "      <td>0.0</td>\n",
       "      <td>1.0</td>\n",
       "      <td>0.0</td>\n",
       "      <td>0.0</td>\n",
       "      <td>0.0</td>\n",
       "    </tr>\n",
       "    <tr>\n",
       "      <th>2</th>\n",
       "      <td>3.241627</td>\n",
       "      <td>-1.048819</td>\n",
       "      <td>-1.292510</td>\n",
       "      <td>2.029061</td>\n",
       "      <td>9291.023542</td>\n",
       "      <td>0.0</td>\n",
       "      <td>0.0</td>\n",
       "      <td>0.0</td>\n",
       "      <td>0.0</td>\n",
       "      <td>1.0</td>\n",
       "      <td>1.0</td>\n",
       "      <td>0.0</td>\n",
       "      <td>0.0</td>\n",
       "      <td>0.0</td>\n",
       "    </tr>\n",
       "    <tr>\n",
       "      <th>3</th>\n",
       "      <td>3.806248</td>\n",
       "      <td>-0.231664</td>\n",
       "      <td>-1.041877</td>\n",
       "      <td>4.573865</td>\n",
       "      <td>17436.728334</td>\n",
       "      <td>1.0</td>\n",
       "      <td>0.0</td>\n",
       "      <td>0.0</td>\n",
       "      <td>0.0</td>\n",
       "      <td>0.0</td>\n",
       "      <td>0.0</td>\n",
       "      <td>0.0</td>\n",
       "      <td>1.0</td>\n",
       "      <td>0.0</td>\n",
       "    </tr>\n",
       "    <tr>\n",
       "      <th>4</th>\n",
       "      <td>3.268097</td>\n",
       "      <td>1.326040</td>\n",
       "      <td>0.547843</td>\n",
       "      <td>4.193472</td>\n",
       "      <td>32917.990718</td>\n",
       "      <td>1.0</td>\n",
       "      <td>0.0</td>\n",
       "      <td>0.0</td>\n",
       "      <td>0.0</td>\n",
       "      <td>0.0</td>\n",
       "      <td>0.0</td>\n",
       "      <td>0.0</td>\n",
       "      <td>0.0</td>\n",
       "      <td>1.0</td>\n",
       "    </tr>\n",
       "  </tbody>\n",
       "</table>\n",
       "</div>"
      ],
      "text/plain": [
       "   Processor_Speed  Storage_Capacity  Screen_Size    Weight         Price  \\\n",
       "0         3.830296         -0.231664    -1.684219  2.641094  17395.093065   \n",
       "1         2.912833          1.326040    -1.610189  3.260012  31607.605919   \n",
       "2         3.241627         -1.048819    -1.292510  2.029061   9291.023542   \n",
       "3         3.806248         -0.231664    -1.041877  4.573865  17436.728334   \n",
       "4         3.268097          1.326040     0.547843  4.193472  32917.990718   \n",
       "\n",
       "   Brand_Acer  Brand_Asus  Brand_Dell  Brand_HP  Brand_Lenovo  RAM_Size_4  \\\n",
       "0         0.0         1.0         0.0       0.0           0.0         0.0   \n",
       "1         1.0         0.0         0.0       0.0           0.0         1.0   \n",
       "2         0.0         0.0         0.0       0.0           1.0         1.0   \n",
       "3         1.0         0.0         0.0       0.0           0.0         0.0   \n",
       "4         1.0         0.0         0.0       0.0           0.0         0.0   \n",
       "\n",
       "   RAM_Size_8  RAM_Size_16  RAM_Size_32  \n",
       "0         0.0          1.0          0.0  \n",
       "1         0.0          0.0          0.0  \n",
       "2         0.0          0.0          0.0  \n",
       "3         0.0          1.0          0.0  \n",
       "4         0.0          0.0          1.0  "
      ]
     },
     "execution_count": 88,
     "metadata": {},
     "output_type": "execute_result"
    }
   ],
   "source": [
    "df.head()"
   ]
  },
  {
   "cell_type": "code",
   "execution_count": 89,
   "metadata": {},
   "outputs": [],
   "source": [
    "X = df.drop(columns = \"Price\")\n",
    "y = df['Price']\n",
    "X_train, X_test, y_train, y_test = train_test_split(X, y, test_size=0.2, random_state=42)"
   ]
  },
  {
   "cell_type": "markdown",
   "metadata": {},
   "source": [
    "### With OHE as well"
   ]
  },
  {
   "cell_type": "code",
   "execution_count": 90,
   "metadata": {},
   "outputs": [
    {
     "name": "stdout",
     "output_type": "stream",
     "text": [
      "Linear Regression Model Score: 0.9996444762461612\n",
      "Mean Absolute Error (MAE): 146.198007372331\n",
      "Mean Squared Error (MSE): 32280.330633959322\n",
      "Root Mean Squared Error (RMSE): 179.6672775826453\n",
      "R-squared: 0.9996444762461612\n",
      "Adjusted R-squared: 0.9996196278117531\n"
     ]
    }
   ],
   "source": [
    "model = LinearRegression()\n",
    "model.fit(X_train, y_train)\n",
    "y_pred = model.predict(X_test)\n",
    "mae = mean_absolute_error(y_test, y_pred)\n",
    "mse = mean_squared_error(y_test, y_pred)\n",
    "rmse = np.sqrt(mse)\n",
    "r2 = r2_score(y_test, y_pred)\n",
    "n = len(y_test) \n",
    "p = X_test.shape[1]\n",
    "adj_r2 = 1 - ((1 - r2) * (n - 1) / (n - p - 1))\n",
    "print(\"Linear Regression Model Score:\", model.score(X_test, y_test))\n",
    "print(\"Mean Absolute Error (MAE):\", mae)\n",
    "print(\"Mean Squared Error (MSE):\", mse)\n",
    "print(\"Root Mean Squared Error (RMSE):\", rmse)\n",
    "print(\"R-squared:\", r2)\n",
    "print(\"Adjusted R-squared:\", adj_r2)"
   ]
  },
  {
   "cell_type": "code",
   "execution_count": 91,
   "metadata": {},
   "outputs": [
    {
     "name": "stdout",
     "output_type": "stream",
     "text": [
      "Decision Tree Model Score: 0.9991499571072225\n",
      "Mean Absolute Error (MAE): 223.04274632661662\n",
      "Mean Squared Error (MSE): 77180.96283473715\n",
      "Root Mean Squared Error (RMSE): 277.81461954824687\n",
      "R-squared: 0.9991499571072225\n",
      "Adjusted R-squared: 0.9990905455071897\n"
     ]
    }
   ],
   "source": [
    "model = DecisionTreeRegressor()\n",
    "model.fit(X_train, y_train)\n",
    "y_pred = model.predict(X_test)\n",
    "mae,mse = mean_absolute_error(y_test, y_pred), mean_squared_error(y_test, y_pred)\n",
    "rmse, r2 = np.sqrt(mse), r2_score(y_test, y_pred)\n",
    "n,p = len(y_test), X_test.shape[1]\n",
    "adj_r2 = 1 - ((1 - r2) * (n - 1) / (n - p - 1))\n",
    "print(\"Decision Tree Model Score:\", model.score(X_test, y_test))\n",
    "print(\"Mean Absolute Error (MAE):\", mae)\n",
    "print(\"Mean Squared Error (MSE):\", mse)\n",
    "print(\"Root Mean Squared Error (RMSE):\", rmse)\n",
    "print(\"R-squared:\", r2)\n",
    "print(\"Adjusted R-squared:\", adj_r2)"
   ]
  },
  {
   "cell_type": "code",
   "execution_count": 92,
   "metadata": {},
   "outputs": [
    {
     "name": "stdout",
     "output_type": "stream",
     "text": [
      "Random Forest Model Score: 0.9995607543744477\n",
      "Mean Absolute Error (MAE): 163.4882214846153\n",
      "Mean Squared Error (MSE): 39881.987825699995\n",
      "Root Mean Squared Error (RMSE): 199.7047516352578\n",
      "R-squared: 0.9995607543744477\n",
      "Adjusted R-squared: 0.9995300544113714\n"
     ]
    }
   ],
   "source": [
    "model = RandomForestRegressor()\n",
    "model.fit(X_train, y_train)\n",
    "y_pred = model.predict(X_test)\n",
    "mae,mse = mean_absolute_error(y_test, y_pred), mean_squared_error(y_test, y_pred)\n",
    "rmse, r2 = np.sqrt(mse), r2_score(y_test, y_pred)\n",
    "n,p = len(y_test), X_test.shape[1]\n",
    "adj_r2 = 1 - ((1 - r2) * (n - 1) / (n - p - 1))\n",
    "print(\"Random Forest Model Score:\", model.score(X_test, y_test))\n",
    "print(\"Mean Absolute Error (MAE):\", mae)\n",
    "print(\"Mean Squared Error (MSE):\", mse)\n",
    "print(\"Root Mean Squared Error (RMSE):\", rmse)\n",
    "print(\"R-squared:\", r2)\n",
    "print(\"Adjusted R-squared:\", adj_r2)"
   ]
  },
  {
   "cell_type": "markdown",
   "metadata": {},
   "source": [
    "### Backward Elimination"
   ]
  },
  {
   "cell_type": "code",
   "execution_count": 93,
   "metadata": {},
   "outputs": [
    {
     "name": "stdout",
     "output_type": "stream",
     "text": [
      "Removing feature 'Weight' with p-value 0.38099742868921416\n",
      "                            OLS Regression Results                            \n",
      "==============================================================================\n",
      "Dep. Variable:                  Price   R-squared:                       1.000\n",
      "Model:                            OLS   Adj. R-squared:                  1.000\n",
      "Method:                 Least Squares   F-statistic:                 1.737e+05\n",
      "Date:                Wed, 20 Mar 2024   Prob (F-statistic):               0.00\n",
      "Time:                        21:15:31   Log-Likelihood:                -5372.3\n",
      "No. Observations:                 800   AIC:                         1.077e+04\n",
      "Df Residuals:                     789   BIC:                         1.082e+04\n",
      "Df Model:                          10                                         \n",
      "Covariance Type:            nonrobust                                         \n",
      "====================================================================================\n",
      "                       coef    std err          t      P>|t|      [0.025      0.975]\n",
      "------------------------------------------------------------------------------------\n",
      "Processor_Speed    198.5171      9.873     20.106      0.000     179.136     217.898\n",
      "Storage_Capacity  9391.9263      7.180   1308.134      0.000    9377.833    9406.020\n",
      "Screen_Size         33.3872      7.083      4.714      0.000      19.484      47.291\n",
      "Brand_Acer        8467.8029     18.432    459.403      0.000    8431.621    8503.985\n",
      "Brand_Asus        8475.6154     19.252    440.250      0.000    8437.825    8513.406\n",
      "Brand_Dell        8437.4337     18.320    460.552      0.000    8401.471    8473.396\n",
      "Brand_HP          8462.1076     20.030    422.481      0.000    8422.790    8501.425\n",
      "Brand_Lenovo      8448.9361     18.823    448.863      0.000    8411.987    8485.885\n",
      "RAM_Size_4        1.002e+04     19.649    509.787      0.000    9978.454    1.01e+04\n",
      "RAM_Size_8        1.022e+04     19.608    521.012      0.000    1.02e+04    1.03e+04\n",
      "RAM_Size_16       1.063e+04     20.632    515.047      0.000    1.06e+04    1.07e+04\n",
      "RAM_Size_32       1.143e+04     19.738    579.201      0.000    1.14e+04    1.15e+04\n",
      "==============================================================================\n",
      "Omnibus:                       12.493   Durbin-Watson:                   1.863\n",
      "Prob(Omnibus):                  0.002   Jarque-Bera (JB):               14.897\n",
      "Skew:                           0.211   Prob(JB):                     0.000582\n",
      "Kurtosis:                       3.519   Cond. No.                     2.65e+16\n",
      "==============================================================================\n",
      "\n",
      "Notes:\n",
      "[1] Standard Errors assume that the covariance matrix of the errors is correctly specified.\n",
      "[2] The smallest eigenvalue is 9.68e-30. This might indicate that there are\n",
      "strong multicollinearity problems or that the design matrix is singular.\n"
     ]
    }
   ],
   "source": [
    "X = df.drop(columns = \"Price\")\n",
    "y = df['Price']\n",
    "def backward_elimination(X, y, significance_level=0.05):\n",
    "    num_features = X.shape[1]\n",
    "    for i in range(num_features):\n",
    "        model = sm.OLS(y, X).fit()\n",
    "        max_p_value = max(model.pvalues)\n",
    "        if max_p_value > significance_level:\n",
    "            max_p_value_index = model.pvalues.idxmax()\n",
    "            print(f\"Removing feature '{max_p_value_index}' with p-value {max_p_value}\")\n",
    "            X = X.drop(max_p_value_index, axis=1)\n",
    "        else:\n",
    "            break\n",
    "    return model\n",
    "final_model = backward_elimination(X_train, y_train)\n",
    "\n",
    "print(final_model.summary())\n",
    "\n"
   ]
  },
  {
   "cell_type": "code",
   "execution_count": 94,
   "metadata": {},
   "outputs": [],
   "source": [
    "X = df.drop(columns = \"Price\")\n",
    "y = df['Price']\n",
    "X_train, X_test, y_train, y_test = train_test_split(X, y, test_size=0.2, random_state=42)"
   ]
  },
  {
   "cell_type": "code",
   "execution_count": 95,
   "metadata": {},
   "outputs": [
    {
     "name": "stdout",
     "output_type": "stream",
     "text": [
      "Linear Regression Model Score: 0.9996444762461612\n",
      "Mean Absolute Error (MAE): 146.198007372331\n",
      "Mean Squared Error (MSE): 32280.330633959322\n",
      "Root Mean Squared Error (RMSE): 179.6672775826453\n",
      "R-squared: 0.9996444762461612\n",
      "Adjusted R-squared: 0.9996196278117531\n"
     ]
    }
   ],
   "source": [
    "model = LinearRegression()\n",
    "model.fit(X_train, y_train)\n",
    "y_pred = model.predict(X_test)\n",
    "mae = mean_absolute_error(y_test, y_pred)\n",
    "mse = mean_squared_error(y_test, y_pred)\n",
    "rmse = np.sqrt(mse)\n",
    "r2 = r2_score(y_test, y_pred)\n",
    "n = len(y_test) \n",
    "p = X_test.shape[1]\n",
    "adj_r2 = 1 - ((1 - r2) * (n - 1) / (n - p - 1))\n",
    "print(\"Linear Regression Model Score:\", model.score(X_test, y_test))\n",
    "print(\"Mean Absolute Error (MAE):\", mae)\n",
    "print(\"Mean Squared Error (MSE):\", mse)\n",
    "print(\"Root Mean Squared Error (RMSE):\", rmse)\n",
    "print(\"R-squared:\", r2)\n",
    "print(\"Adjusted R-squared:\", adj_r2)"
   ]
  },
  {
   "cell_type": "code",
   "execution_count": 96,
   "metadata": {},
   "outputs": [
    {
     "name": "stdout",
     "output_type": "stream",
     "text": [
      "Decision Tree Model Score: 0.9991259378452492\n",
      "Mean Absolute Error (MAE): 226.7630584201549\n",
      "Mean Squared Error (MSE): 79361.82897859467\n",
      "Root Mean Squared Error (RMSE): 281.7123159867077\n",
      "R-squared: 0.9991259378452492\n",
      "Adjusted R-squared: 0.9990648474795946\n"
     ]
    }
   ],
   "source": [
    "model = DecisionTreeRegressor()\n",
    "model.fit(X_train, y_train)\n",
    "y_pred = model.predict(X_test)\n",
    "mae,mse = mean_absolute_error(y_test, y_pred), mean_squared_error(y_test, y_pred)\n",
    "rmse, r2 = np.sqrt(mse), r2_score(y_test, y_pred)\n",
    "n,p = len(y_test), X_test.shape[1]\n",
    "adj_r2 = 1 - ((1 - r2) * (n - 1) / (n - p - 1))\n",
    "print(\"Decision Tree Model Score:\", model.score(X_test, y_test))\n",
    "print(\"Mean Absolute Error (MAE):\", mae)\n",
    "print(\"Mean Squared Error (MSE):\", mse)\n",
    "print(\"Root Mean Squared Error (RMSE):\", rmse)\n",
    "print(\"R-squared:\", r2)\n",
    "print(\"Adjusted R-squared:\", adj_r2)"
   ]
  },
  {
   "cell_type": "code",
   "execution_count": 97,
   "metadata": {},
   "outputs": [
    {
     "name": "stdout",
     "output_type": "stream",
     "text": [
      "Random Forest Model Score: 0.9995587231380055\n",
      "Mean Absolute Error (MAE): 165.93536813501004\n",
      "Mean Squared Error (MSE): 40066.41708884595\n",
      "Root Mean Squared Error (RMSE): 200.1659738538145\n",
      "R-squared: 0.9995587231380055\n",
      "Adjusted R-squared: 0.9995278812067908\n"
     ]
    }
   ],
   "source": [
    "model = RandomForestRegressor()\n",
    "model.fit(X_train, y_train)\n",
    "y_pred = model.predict(X_test)\n",
    "mae,mse = mean_absolute_error(y_test, y_pred), mean_squared_error(y_test, y_pred)\n",
    "rmse, r2 = np.sqrt(mse), r2_score(y_test, y_pred)\n",
    "n,p = len(y_test), X_test.shape[1]\n",
    "adj_r2 = 1 - ((1 - r2) * (n - 1) / (n - p - 1))\n",
    "print(\"Random Forest Model Score:\", model.score(X_test, y_test))\n",
    "print(\"Mean Absolute Error (MAE):\", mae)\n",
    "print(\"Mean Squared Error (MSE):\", mse)\n",
    "print(\"Root Mean Squared Error (RMSE):\", rmse)\n",
    "print(\"R-squared:\", r2)\n",
    "print(\"Adjusted R-squared:\", adj_r2)"
   ]
  }
 ],
 "metadata": {
  "kernelspec": {
   "display_name": "Python 3",
   "language": "python",
   "name": "python3"
  },
  "language_info": {
   "codemirror_mode": {
    "name": "ipython",
    "version": 3
   },
   "file_extension": ".py",
   "mimetype": "text/x-python",
   "name": "python",
   "nbconvert_exporter": "python",
   "pygments_lexer": "ipython3",
   "version": "3.12.1"
  }
 },
 "nbformat": 4,
 "nbformat_minor": 2
}
